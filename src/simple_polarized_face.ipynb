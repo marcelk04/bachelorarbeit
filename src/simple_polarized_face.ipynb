{
 "cells": [
  {
   "cell_type": "code",
   "execution_count": null,
   "id": "3e115148",
   "metadata": {},
   "outputs": [],
   "source": [
    "import mitsuba as mi\n",
    "import drjit as dr\n",
    "from matplotlib import pyplot as plt\n",
    "import numpy as np\n",
    "\n",
    "mi.set_variant(\"cuda_ad_spectral_polarized\")\n",
    "mi.variants()"
   ]
  },
  {
   "cell_type": "code",
   "execution_count": null,
   "id": "f70b71c1",
   "metadata": {},
   "outputs": [],
   "source": [
    "scene = mi.load_file(\"../scenes/simple_polarized_face.xml\")\n",
    "image = mi.render(scene, spp=128)\n",
    "\n",
    "plt.axis(\"off\")\n",
    "plt.imshow(image ** (1.0 / 2.2))\n",
    "plt.show()"
   ]
  },
  {
   "cell_type": "code",
   "execution_count": null,
   "id": "8d4bd608",
   "metadata": {},
   "outputs": [],
   "source": [
    "spp = 128\n",
    "scene = mi.load_file(\"../scenes/simple_polarized_face.xml\")\n",
    "\n",
    "parallel = mi.render(scene, spp=spp)\n",
    "\n",
    "params = mi.traverse(scene)\n",
    "params[\"polarizer_cam.bsdf.theta.value\"] = 90\n",
    "params.update()\n",
    "\n",
    "orthogonal = mi.render(scene, spp=spp)"
   ]
  },
  {
   "cell_type": "code",
   "execution_count": null,
   "id": "af7c3d7b",
   "metadata": {},
   "outputs": [],
   "source": [
    "fig, ax = plt.subplots(1, 2, figsize=(10, 20))\n",
    "\n",
    "ax[0].imshow(parallel ** (1.0 / 2.2))\n",
    "ax[0].axis(\"off\")\n",
    "ax[0].set_title(\"Parallel Polarization\")\n",
    "\n",
    "ax[1].imshow(orthogonal ** (1.0 / 2.2))\n",
    "ax[1].axis(\"off\")\n",
    "ax[1].set_title(\"Orthogonal Polarization\")\n",
    "\n",
    "plt.show()"
   ]
  },
  {
   "cell_type": "code",
   "execution_count": null,
   "id": "3dd4c688",
   "metadata": {},
   "outputs": [],
   "source": [
    "diff = np.abs(parallel - orthogonal)\n",
    "\n",
    "plt.imshow(diff ** (1.0 / 2.2))\n",
    "plt.axis(\"off\")\n",
    "plt.title(\"Difference\")\n",
    "plt.show()"
   ]
  },
  {
   "cell_type": "code",
   "execution_count": null,
   "id": "cb62cffd",
   "metadata": {},
   "outputs": [],
   "source": [
    "unpol = 2 * np.fmin(parallel, orthogonal)\n",
    "pol = parallel - unpol / 2"
   ]
  },
  {
   "cell_type": "code",
   "execution_count": null,
   "id": "932c449c",
   "metadata": {},
   "outputs": [],
   "source": [
    "fig, ax = plt.subplots(1, 2, figsize=(10, 20))\n",
    "\n",
    "ax[0].imshow(unpol ** (1.0 / 2.2))\n",
    "ax[0].axis(\"off\")\n",
    "ax[0].set_title(\"Unpolarized (indirect)\")\n",
    "\n",
    "ax[1].imshow(pol ** (1.0 / 2.2))\n",
    "ax[1].axis(\"off\")\n",
    "ax[1].set_title(\"Polarized (direct)\")\n",
    "\n",
    "plt.show()"
   ]
  },
  {
   "cell_type": "code",
   "execution_count": null,
   "id": "6837a030",
   "metadata": {},
   "outputs": [],
   "source": [
    "params = mi.traverse(scene)\n",
    "print(params)"
   ]
  }
 ],
 "metadata": {
  "kernelspec": {
   "display_name": "mitsuba",
   "language": "python",
   "name": "python3"
  },
  "language_info": {
   "codemirror_mode": {
    "name": "ipython",
    "version": 3
   },
   "file_extension": ".py",
   "mimetype": "text/x-python",
   "name": "python",
   "nbconvert_exporter": "python",
   "pygments_lexer": "ipython3",
   "version": "3.12.9"
  }
 },
 "nbformat": 4,
 "nbformat_minor": 5
}
