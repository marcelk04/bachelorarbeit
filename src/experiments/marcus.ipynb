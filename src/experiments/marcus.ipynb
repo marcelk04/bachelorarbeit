{
 "cells": [
  {
   "cell_type": "code",
   "execution_count": 8,
   "id": "5fa99c8b",
   "metadata": {},
   "outputs": [
    {
     "name": "stdout",
     "output_type": "stream",
     "text": [
      "['scalar_rgb', 'scalar_spectral', 'scalar_spectral_polarized', 'llvm_ad_rgb', 'llvm_ad_mono', 'llvm_ad_mono_polarized', 'llvm_ad_spectral', 'llvm_ad_spectral_polarized', 'cuda_ad_rgb', 'cuda_ad_mono', 'cuda_ad_mono_polarized', 'cuda_ad_spectral', 'cuda_ad_spectral_polarized']\n"
     ]
    }
   ],
   "source": [
    "import os\n",
    "os.environ[\"CUDA_DEVICE_ORDER\"]=\"PCI_BUS_ID\"\n",
    "os.environ[\"CUDA_VISIBLE_DEVICES\"]=\"6\"\n",
    "\n",
    "import sys\n",
    "sys.path.append(\"../\")\n",
    "\n",
    "import mitsuba as mi\n",
    "import drjit as dr\n",
    "from matplotlib import pyplot as plt\n",
    "import numpy as np\n",
    "import skimage as ski\n",
    "from helpers.polarization_helpers import *\n",
    "from helpers.render_helpers import *\n",
    "from helpers.hair_color_helpers import *\n",
    "\n",
    "print(mi.variants())\n",
    "mi.set_variant(\"cuda_ad_spectral_polarized\")\n",
    "dr.set_flag(dr.JitFlag.Debug, True)"
   ]
  },
  {
   "cell_type": "code",
   "execution_count": 21,
   "id": "2c6938a3",
   "metadata": {},
   "outputs": [
    {
     "data": {
      "image/png": "[encoded data removed]",
      "text/plain": [
       "<Figure size 640x480 with 1 Axes>"
      ]
     },
     "metadata": {},
     "output_type": "display_data"
    }
   ],
   "source": [
    "scene = mi.load_file(\"../../scenes/marcus_light_sphere_hair.xml\", res=256)\n",
    "image = np.clip(render_from_angle(scene, 75, 0.5*np.pi, 0, polarized=True, spp=128).squeeze()[0], 0.0, 1.0)\n",
    "\n",
    "plt.axis(\"off\")\n",
    "plt.imshow(image ** (1.0 / 2.2))\n",
    "plt.show()"
   ]
  },
  {
   "cell_type": "code",
   "execution_count": 19,
   "id": "a60cd828",
   "metadata": {},
   "outputs": [
    {
     "name": "stdout",
     "output_type": "stream",
     "text": [
      "SceneParameters[\n",
      "  -------------------------------------------------------------------------------------------------------------------\n",
      "  Name                                                            Flags    Type              Parent\n",
      "  -------------------------------------------------------------------------------------------------------------------\n",
      "  sensor.near_clip                                                         float             PerspectiveCamera\n",
      "  sensor.far_clip                                                          float             PerspectiveCamera\n",
      "  sensor.shutter_open                                                      float             PerspectiveCamera\n",
      "  sensor.shutter_open_time                                                 float             PerspectiveCamera\n",
      "  sensor.film.size                                                         ScalarVector2u    HDRFilm\n",
      "  sensor.film.crop_size                                                    ScalarVector2u    HDRFilm\n",
      "  sensor.film.crop_offset                                                  ScalarPoint2u     HDRFilm\n",
      "  sensor.x_fov                                                    ∂, D     Float             PerspectiveCamera\n",
      "  sensor.principal_point_offset_x                                 ∂, D     Float             PerspectiveCamera\n",
      "  sensor.principal_point_offset_y                                 ∂, D     Float             PerspectiveCamera\n",
      "  sensor.to_world                                                 ∂, D     Transform4f       PerspectiveCamera\n",
      "  BitmapTextureImpl.data                                          ∂        TensorXf          BitmapTextureImpl\n",
      "  BitmapTextureImpl.to_uv                                                  ScalarTransform3f BitmapTextureImpl\n",
      "  BitmapTextureImpl_1.data                                        ∂        TensorXf          BitmapTextureImpl\n",
      "  BitmapTextureImpl_1.to_uv                                                ScalarTransform3f BitmapTextureImpl\n",
      "  BitmapTextureImpl_2.data                                        ∂        TensorXf          BitmapTextureImpl\n",
      "  BitmapTextureImpl_2.to_uv                                                ScalarTransform3f BitmapTextureImpl\n",
      "  BitmapTextureImpl_3.data                                        ∂        TensorXf          BitmapTextureImpl\n",
      "  BitmapTextureImpl_3.to_uv                                                ScalarTransform3f BitmapTextureImpl\n",
      "  head.bsdf.nested_bsdf.nested_bsdf.diffuse_reflectance.data      ∂, D     TensorXf          BitmapTextureImpl\n",
      "  head.bsdf.nested_bsdf.nested_bsdf.diffuse_reflectance.to_uv     , D      ScalarTransform3f BitmapTextureImpl\n",
      "  head.bsdf.nested_bsdf.nested_bsdf.eta                           ∂, D     Float             PolarizedPlastic\n",
      "  head.bsdf.nested_bsdf.nested_bsdf.specular_reflectance.data     ∂, D     TensorXf          BitmapTextureImpl\n",
      "  head.bsdf.nested_bsdf.nested_bsdf.specular_reflectance.to_uv    , D      ScalarTransform3f BitmapTextureImpl\n",
      "  head.bsdf.nested_bsdf.nested_bsdf.alpha                         ∂, D     Float             PolarizedPlastic\n",
      "  head.bsdf.nested_bsdf.nested_texture.data                       ∂, D     TensorXf          BitmapTextureImpl\n",
      "  head.bsdf.nested_bsdf.nested_texture.to_uv                      , D      ScalarTransform3f BitmapTextureImpl\n",
      "  head.bsdf.nested_bsdf.scale                                              float             BumpMap\n",
      "  head.bsdf.normalmap.data                                        ∂, D     TensorXf          BitmapTextureImpl\n",
      "  head.bsdf.normalmap.to_uv                                       , D      ScalarTransform3f BitmapTextureImpl\n",
      "  head.silhouette_sampling_weight                                          float             OBJMesh\n",
      "  head.faces                                                               UInt              OBJMesh\n",
      "  head.vertex_positions                                           ∂, D     Float             OBJMesh\n",
      "  head.vertex_normals                                             ∂, D     Float             OBJMesh\n",
      "  head.vertex_texcoords                                           ∂        Float             OBJMesh\n",
      "  light.bsdf.reflectance.value                                    ∂        Float             UniformSpectrum\n",
      "  light.emitter.sampling_weight                                            float             AreaLight\n",
      "  light.emitter.radiance.value                                    ∂        Color3f           D65Spectrum\n",
      "  light.emitter.radiance.d65.range                                         ScalarVector2f    RegularSpectrum\n",
      "  light.emitter.radiance.d65.values                               ∂        Float             RegularSpectrum\n",
      "  light.silhouette_sampling_weight                                         float             Sphere\n",
      "  light.to_world                                                  ∂, D     Transform4f       Sphere\n",
      "  polarizer_light.bsdf.theta.value                                ∂, D     Float             UniformSpectrum\n",
      "  polarizer_light.bsdf.transmittance.value                        ∂        Float             UniformSpectrum\n",
      "  polarizer_light.silhouette_sampling_weight                               float             Sphere\n",
      "  polarizer_light.to_world                                        ∂, D     Transform4f       Sphere\n",
      "  polarizer_cam.bsdf.theta.value                                  ∂, D     Float             UniformSpectrum\n",
      "  polarizer_cam.bsdf.transmittance.value                          ∂        Float             UniformSpectrum\n",
      "  polarizer_cam.silhouette_sampling_weight                                 float             Rectangle\n",
      "  polarizer_cam.to_world                                          ∂, D     Transform4f       Rectangle\n",
      "]\n"
     ]
    }
   ],
   "source": [
    "params = mi.traverse(scene)\n",
    "print(params)"
   ]
  }
 ],
 "metadata": {
  "kernelspec": {
   "display_name": "ba",
   "language": "python",
   "name": "python3"
  },
  "language_info": {
   "codemirror_mode": {
    "name": "ipython",
    "version": 3
   },
   "file_extension": ".py",
   "mimetype": "text/x-python",
   "name": "python",
   "nbconvert_exporter": "python",
   "pygments_lexer": "ipython3",
   "version": "3.9.23"
  }
 },
 "nbformat": 4,
 "nbformat_minor": 5
}
