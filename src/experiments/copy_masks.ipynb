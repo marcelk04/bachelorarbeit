{
 "cells": [
  {
   "cell_type": "code",
   "execution_count": 1,
   "id": "42a1468a",
   "metadata": {},
   "outputs": [],
   "source": [
    "import os\n",
    "import shutil\n",
    "import skimage as ski"
   ]
  },
  {
   "cell_type": "code",
   "execution_count": null,
   "id": "aed3a1f1",
   "metadata": {},
   "outputs": [],
   "source": [
    "mask_path = \"../../output/marcus_160\"\n",
    "path = \"../../output/instant_ngp_2\""
   ]
  },
  {
   "cell_type": "code",
   "execution_count": 12,
   "id": "d55912f4",
   "metadata": {},
   "outputs": [],
   "source": [
    "for i, img_name in enumerate(sorted(os.listdir(os.path.join(mask_path, \"masks\")))):\n",
    "\timg = ski.io.imread(os.path.join(mask_path, \"masks\", img_name))\n",
    "\timg = 255 - img\n",
    "\tski.io.imsave(os.path.join(path, \"global\", \"images\", \"dynamic_mask_\" + str(i).zfill(4) + \".png\"), img)"
   ]
  }
 ],
 "metadata": {
  "kernelspec": {
   "display_name": "ba",
   "language": "python",
   "name": "python3"
  },
  "language_info": {
   "codemirror_mode": {
    "name": "ipython",
    "version": 3
   },
   "file_extension": ".py",
   "mimetype": "text/x-python",
   "name": "python",
   "nbconvert_exporter": "python",
   "pygments_lexer": "ipython3",
   "version": "3.9.23"
  }
 },
 "nbformat": 4,
 "nbformat_minor": 5
}
