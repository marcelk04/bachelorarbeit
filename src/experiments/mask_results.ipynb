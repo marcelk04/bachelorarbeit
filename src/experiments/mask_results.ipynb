{
 "cells": [
  {
   "cell_type": "code",
   "execution_count": 1,
   "id": "6997df19",
   "metadata": {},
   "outputs": [],
   "source": [
    "import os\n",
    "os.environ[\"CUDA_DEVICE_ORDER\"]=\"PCI_BUS_ID\"\n",
    "os.environ[\"CUDA_VISIBLE_DEVICES\"]=\"6\"\n",
    "\n",
    "import sys\n",
    "sys.path.append(\"../\")\n",
    "\n",
    "import argparse\n",
    "import os\n",
    "import shutil\n",
    "\n",
    "import skimage as ski\n",
    "\n",
    "from helpers.sys_helpers import to_np_image, to_ski_image, create_dir"
   ]
  },
  {
   "cell_type": "code",
   "execution_count": 2,
   "id": "50656cb9",
   "metadata": {},
   "outputs": [],
   "source": [
    "path = \"../../output/instant_ngp_2\"\n",
    "scene = \"unpolarized\""
   ]
  },
  {
   "cell_type": "code",
   "execution_count": 3,
   "id": "1535deb4",
   "metadata": {},
   "outputs": [],
   "source": [
    "render_path = os.path.join(path, \"results\", scene, \"test\", \"renders\")\n",
    "mask_path = os.path.join(path, scene, \"images\")\n",
    "\n",
    "assert os.path.exists(render_path)\n",
    "assert os.path.exists(mask_path)"
   ]
  },
  {
   "cell_type": "code",
   "execution_count": 6,
   "id": "ea10c441",
   "metadata": {},
   "outputs": [
    {
     "name": "stdout",
     "output_type": "stream",
     "text": [
      "(1024, 1024, 4) (1024, 1024)\n",
      "(1024, 1024, 4)\n"
     ]
    }
   ],
   "source": [
    "img_name = \"0160.png\"\n",
    "\n",
    "img = to_np_image(ski.io.imread(os.path.join(render_path, img_name)))\n",
    "mask = to_np_image(ski.io.imread(os.path.join(mask_path, \"dynamic_mask_\" + img_name), as_gray=True))\n",
    "\n",
    "print(img.shape, mask.shape)\n",
    "\n",
    "mask = 1.0 - mask\n",
    "img[..., :3] *= mask[..., None]\n",
    "\n",
    "print(img.shape)"
   ]
  }
 ],
 "metadata": {
  "kernelspec": {
   "display_name": "ba",
   "language": "python",
   "name": "python3"
  },
  "language_info": {
   "codemirror_mode": {
    "name": "ipython",
    "version": 3
   },
   "file_extension": ".py",
   "mimetype": "text/x-python",
   "name": "python",
   "nbconvert_exporter": "python",
   "pygments_lexer": "ipython3",
   "version": "3.9.23"
  }
 },
 "nbformat": 4,
 "nbformat_minor": 5
}
